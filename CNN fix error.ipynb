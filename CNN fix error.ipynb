# THE GIVEN CODE IS OF YOUR CNN PROJECT IN WHICH I HAD FIXED  SOME ERRORS AND ALSO ADDED SHUFFLE=TRUE FOR BETTER ACCURACY
# THIS PEICE OF CODE IS FROM SHELL 3 OF CNN.IPYNB
batch_size=32
lr=.01
karnal_size=3 # this variable is not used so we can remove it
device=torch.device('cuda' if torch.cuda.is_available() else 'cpu')
print(device)
# THIS PEICE OF CODE IS FROM SHELL 4 OF CNN.IPYNB
train_loader=DataLoader(train_data,batch_size=batch_size,shuffle=True)
'''
Without shuffle=True, the model sees the same order of samples every epoch.
This can cause the model to overfit the order or learn less general features.'''

test_loader=DataLoader(test_data,batch_size=batch_size,shuffle=False)


# THIS PEICE OF CODE IS FROM SHELL 5 OF CNN.IPYNB
trainiter=iter(train_loader)
images,labels=next(trainiter) 
#In Python, next() is not a method of an iterator object — 
#it's a built-in function that should be used like this:
images.shape

# Sorry for giving the pullrequest like this because git doesnot support files higher than 100mb.
# so I am not able to push the file
